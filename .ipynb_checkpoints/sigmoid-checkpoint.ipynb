{
 "cells": [
  {
   "cell_type": "code",
   "execution_count": 1,
   "id": "1bfde750-fa4e-4ebd-ab35-7a0497979101",
   "metadata": {},
   "outputs": [],
   "source": [
    "import numpy as np"
   ]
  },
  {
   "cell_type": "code",
   "execution_count": 19,
   "id": "af35de53-cab8-4c6f-b20b-77248d3b0a43",
   "metadata": {},
   "outputs": [],
   "source": [
    "x_data=np.array([2,4,6,8,10,12,14,16,18,20]).reshape(10,1)\n",
    "t_data=np.array([0,0,0,0,0,0,1,1,1,1]).reshape(10,1)\n"
   ]
  },
  {
   "cell_type": "code",
   "execution_count": 25,
   "id": "e6b60598-68c0-4913-869b-b830ed1fdf26",
   "metadata": {},
   "outputs": [
    {
     "ename": "TypeError",
     "evalue": "array() takes from 1 to 2 positional arguments but 9 were given",
     "output_type": "error",
     "traceback": [
      "\u001b[1;31m---------------------------------------------------------------------------\u001b[0m",
      "\u001b[1;31mTypeError\u001b[0m                                 Traceback (most recent call last)",
      "\u001b[1;32m<ipython-input-25-748b30759d13>\u001b[0m in \u001b[0;36m<module>\u001b[1;34m\u001b[0m\n\u001b[1;32m----> 1\u001b[1;33m \u001b[0mx_data\u001b[0m\u001b[1;33m=\u001b[0m\u001b[0mnp\u001b[0m\u001b[1;33m.\u001b[0m\u001b[0marray\u001b[0m\u001b[1;33m(\u001b[0m\u001b[1;33m[\u001b[0m\u001b[1;36m2\u001b[0m\u001b[1;33m,\u001b[0m\u001b[1;36m4\u001b[0m\u001b[1;33m]\u001b[0m\u001b[1;33m,\u001b[0m\u001b[1;33m[\u001b[0m\u001b[1;36m4\u001b[0m\u001b[1;33m,\u001b[0m\u001b[1;36m11\u001b[0m\u001b[1;33m]\u001b[0m\u001b[1;33m,\u001b[0m\u001b[1;33m[\u001b[0m\u001b[1;36m6\u001b[0m\u001b[1;33m,\u001b[0m\u001b[1;36m6\u001b[0m\u001b[1;33m]\u001b[0m\u001b[1;33m,\u001b[0m\u001b[1;33m[\u001b[0m\u001b[1;36m8\u001b[0m\u001b[1;33m,\u001b[0m\u001b[1;36m5\u001b[0m\u001b[1;33m]\u001b[0m\u001b[1;33m,\u001b[0m\u001b[1;33m[\u001b[0m\u001b[1;36m10\u001b[0m\u001b[1;33m,\u001b[0m\u001b[1;36m7\u001b[0m\u001b[1;33m]\u001b[0m\u001b[1;33m,\u001b[0m\u001b[1;33m[\u001b[0m\u001b[1;36m12\u001b[0m\u001b[1;33m,\u001b[0m\u001b[1;36m16\u001b[0m\u001b[1;33m]\u001b[0m\u001b[1;33m,\u001b[0m\u001b[1;33m[\u001b[0m\u001b[1;36m14\u001b[0m\u001b[1;33m,\u001b[0m\u001b[1;36m8\u001b[0m\u001b[1;33m]\u001b[0m\u001b[1;33m,\u001b[0m\u001b[1;33m[\u001b[0m\u001b[1;36m16\u001b[0m\u001b[1;33m,\u001b[0m\u001b[1;36m3\u001b[0m\u001b[1;33m]\u001b[0m\u001b[1;33m,\u001b[0m\u001b[1;33m[\u001b[0m\u001b[1;36m18\u001b[0m\u001b[1;33m,\u001b[0m\u001b[1;36m7\u001b[0m\u001b[1;33m]\u001b[0m\u001b[1;33m)\u001b[0m\u001b[1;33m\u001b[0m\u001b[1;33m\u001b[0m\u001b[0m\n\u001b[0m\u001b[0;32m      2\u001b[0m \u001b[0mt_data\u001b[0m\u001b[1;33m=\u001b[0m\u001b[0mnp\u001b[0m\u001b[1;33m.\u001b[0m\u001b[0marray\u001b[0m\u001b[1;33m(\u001b[0m\u001b[1;33m[\u001b[0m\u001b[1;36m0\u001b[0m\u001b[1;33m,\u001b[0m\u001b[1;36m0\u001b[0m\u001b[1;33m,\u001b[0m\u001b[1;36m0\u001b[0m\u001b[1;33m,\u001b[0m\u001b[1;36m0\u001b[0m\u001b[1;33m,\u001b[0m\u001b[1;36m1\u001b[0m\u001b[1;33m,\u001b[0m\u001b[1;36m1\u001b[0m\u001b[1;33m,\u001b[0m\u001b[1;36m1\u001b[0m\u001b[1;33m,\u001b[0m\u001b[1;36m1\u001b[0m\u001b[1;33m,\u001b[0m\u001b[1;36m1\u001b[0m\u001b[1;33m]\u001b[0m\u001b[1;33m)\u001b[0m\u001b[1;33m.\u001b[0m\u001b[0mreshape\u001b[0m\u001b[1;33m(\u001b[0m\u001b[1;36m9\u001b[0m\u001b[1;33m,\u001b[0m\u001b[1;36m1\u001b[0m\u001b[1;33m)\u001b[0m\u001b[1;33m\u001b[0m\u001b[1;33m\u001b[0m\u001b[0m\n",
      "\u001b[1;31mTypeError\u001b[0m: array() takes from 1 to 2 positional arguments but 9 were given"
     ]
    }
   ],
   "source": [
    "x_data=np.array([[2,4],[4,11],[6,6],[8,5],[10,7],[12,16],[14,8],[16,3],[18,7]])\n",
    "t_data=np.array([0,0,0,0,1,1,1,1,1]).reshape(9,1)\n"
   ]
  },
  {
   "cell_type": "code",
   "execution_count": 3,
   "id": "447e5d50-25c0-4125-a1fb-b04df0b7924f",
   "metadata": {},
   "outputs": [
    {
     "name": "stdout",
     "output_type": "stream",
     "text": [
      "[[ 2]\n",
      " [ 4]\n",
      " [ 6]\n",
      " [ 8]\n",
      " [10]\n",
      " [12]\n",
      " [14]\n",
      " [16]\n",
      " [18]\n",
      " [20]]\n",
      "[[0]\n",
      " [0]\n",
      " [0]\n",
      " [0]\n",
      " [0]\n",
      " [0]\n",
      " [1]\n",
      " [1]\n",
      " [1]\n",
      " [1]]\n"
     ]
    }
   ],
   "source": [
    "print(x_data)\n",
    "print(t_data)"
   ]
  },
  {
   "cell_type": "code",
   "execution_count": 4,
   "id": "fbed0f70-77a4-4918-83e9-060374636e39",
   "metadata": {},
   "outputs": [
    {
     "name": "stdout",
     "output_type": "stream",
     "text": [
      "[[0.80326697]] [0.42829602]\n"
     ]
    }
   ],
   "source": [
    "w=np.random.rand(1,1) #3X1 행렬\n",
    "b=np.random.rand(1)\n",
    "print(w,b)"
   ]
  },
  {
   "cell_type": "code",
   "execution_count": 5,
   "id": "ed8ee067-4a38-46b8-8e69-24a8407906e1",
   "metadata": {},
   "outputs": [],
   "source": [
    "def sigmoid(x):\n",
    "    return 1/(1+np.exp(-x))\n",
    "def loss_func(x,t):\n",
    "    delta = 1e-7\n",
    "    z=np.dot(x,w)+b\n",
    "    y=sigmoid(z)\n",
    "    return -np.sum(t*np.log(y+delta)+(1-t)*np.log(1-y+delta))\n",
    "    "
   ]
  },
  {
   "cell_type": "code",
   "execution_count": 6,
   "id": "579c427e-52ec-4a51-b763-f900726e1be2",
   "metadata": {},
   "outputs": [],
   "source": [
    "def numerical_derivative(f,x):\n",
    "    delta_x=1e-4\n",
    "    grad = np.zeros_like(x)\n",
    "    \n",
    "#     print(\"debug1. intial input variable = \", x)\n",
    "#     print(\"debug2. initial input grad = \", grad)\n",
    "#     print(\"======================================\")\n",
    "    it = np.nditer(x, flags=['multi_index'], op_flags=['readwrite'])\n",
    "    \n",
    "    while not it.finished:\n",
    "        idx = it.multi_index\n",
    "#         print(\"debug 3. idx= \", idx, \", x[idx]= \", x[idx])\n",
    "        tmp_val = x[idx]\n",
    "        x[idx] = float(tmp_val) + delta_x\n",
    "        fx1 = f(x) # f(x+delta_x)\n",
    "        \n",
    "        x[idx] = tmp_val - delta_x\n",
    "        fx2 = f(x) # f(x-delta_x)\n",
    "        grad[idx] = (fx1 - fx2) / (2*delta_x)\n",
    "        \n",
    "#         print(\"debug4. grad[idx] = \", grad[idx])\n",
    "#         print(\"debug5. grad = \", grad)\n",
    "#         print(\"======================================\")\n",
    "        \n",
    "        x[idx] = tmp_val\n",
    "        it.iternext()\n",
    "    return grad"
   ]
  },
  {
   "cell_type": "code",
   "execution_count": 14,
   "id": "5ebc6d07-6229-41cd-a7ef-c5ddca195a9d",
   "metadata": {},
   "outputs": [],
   "source": [
    "def predict(x):\n",
    "    z=np.dot(x,w)+b\n",
    "    y=sigmoid(z)\n",
    "    \n",
    "    if y>0.5: \n",
    "        result = 1\n",
    "    else:\n",
    "        result =0\n",
    "        \n",
    "    return y, result"
   ]
  },
  {
   "cell_type": "code",
   "execution_count": 11,
   "id": "80eef5b7-9d5f-4c44-8196-38e23489ece5",
   "metadata": {},
   "outputs": [
    {
     "name": "stdout",
     "output_type": "stream",
     "text": [
      "step =  0 error value =  0.21078472204829427 w = [[2.21365438]] , b = [-28.69034162]\n",
      "step =  1000 error value =  0.21053627669263447 w = [[2.21486219]] , b = [-28.70605885]\n",
      "step =  2000 error value =  0.21028842120992644 w = [[2.21606856]] , b = [-28.7217574]\n",
      "step =  3000 error value =  0.2100411534395606 w = [[2.2172735]] , b = [-28.73743733]\n",
      "step =  4000 error value =  0.20979447123187425 w = [[2.21847702]] , b = [-28.75309868]\n",
      "step =  5000 error value =  0.2095483724480728 w = [[2.21967912]] , b = [-28.76874149]\n",
      "step =  6000 error value =  0.20930285496016177 w = [[2.2208798]] , b = [-28.78436582]\n",
      "step =  7000 error value =  0.20905791665087853 w = [[2.22207906]] , b = [-28.79997171]\n",
      "step =  8000 error value =  0.20881355541362087 w = [[2.22327691]] , b = [-28.8155592]\n",
      "step =  9000 error value =  0.20856976915237221 w = [[2.22447335]] , b = [-28.83112834]\n",
      "step =  10000 error value =  0.2083265557816425 w = [[2.22566839]] , b = [-28.84667918]\n",
      "step =  11000 error value =  0.2080839132263908 w = [[2.22686203]] , b = [-28.86221175]\n",
      "step =  12000 error value =  0.2078418394219581 w = [[2.22805427]] , b = [-28.87772611]\n",
      "step =  13000 error value =  0.2076003323140042 w = [[2.22924511]] , b = [-28.89322229]\n",
      "step =  14000 error value =  0.20735938985844507 w = [[2.23043456]] , b = [-28.90870035]\n",
      "step =  15000 error value =  0.2071190100213732 w = [[2.23162263]] , b = [-28.92416033]\n",
      "step =  16000 error value =  0.20687919077900316 w = [[2.23280931]] , b = [-28.93960226]\n",
      "step =  17000 error value =  0.20663993011760062 w = [[2.23399461]] , b = [-28.9550262]\n",
      "step =  18000 error value =  0.2064012260334223 w = [[2.23517853]] , b = [-28.97043219]\n",
      "step =  19000 error value =  0.20616307653264665 w = [[2.23636108]] , b = [-28.98582027]\n",
      "step =  20000 error value =  0.20592547963131286 w = [[2.23754226]] , b = [-29.00119049]\n",
      "step =  21000 error value =  0.20568843335525874 w = [[2.23872207]] , b = [-29.01654288]\n",
      "step =  22000 error value =  0.20545193574005544 w = [[2.23990052]] , b = [-29.03187749]\n",
      "step =  23000 error value =  0.20521598483094708 w = [[2.2410776]] , b = [-29.04719437]\n",
      "step =  24000 error value =  0.20498057868278954 w = [[2.24225333]] , b = [-29.06249356]\n",
      "step =  25000 error value =  0.2047457153599844 w = [[2.2434277]] , b = [-29.07777509]\n",
      "step =  26000 error value =  0.2045113929364273 w = [[2.24460072]] , b = [-29.09303902]\n",
      "step =  27000 error value =  0.2042776094954416 w = [[2.24577239]] , b = [-29.10828538]\n",
      "step =  28000 error value =  0.20404436312971594 w = [[2.24694272]] , b = [-29.12351421]\n",
      "step =  29000 error value =  0.20381165194125417 w = [[2.24811171]] , b = [-29.13872556]\n",
      "step =  30000 error value =  0.2035794740413042 w = [[2.24927935]] , b = [-29.15391948]\n",
      "step =  31000 error value =  0.20334782755031278 w = [[2.25044567]] , b = [-29.16909599]\n",
      "step =  32000 error value =  0.2031167105978544 w = [[2.25161065]] , b = [-29.18425514]\n",
      "step =  33000 error value =  0.20288612132258824 w = [[2.2527743]] , b = [-29.19939698]\n",
      "step =  34000 error value =  0.20265605787218577 w = [[2.25393662]] , b = [-29.21452154]\n",
      "step =  35000 error value =  0.20242651840328774 w = [[2.25509763]] , b = [-29.22962887]\n",
      "step =  36000 error value =  0.20219750108144077 w = [[2.25625731]] , b = [-29.244719]\n",
      "step =  37000 error value =  0.20196900408104307 w = [[2.25741568]] , b = [-29.25979198]\n",
      "step =  38000 error value =  0.20174102558528173 w = [[2.25857273]] , b = [-29.27484785]\n",
      "step =  39000 error value =  0.20151356378610039 w = [[2.25972847]] , b = [-29.28988664]\n",
      "step =  40000 error value =  0.20128661688411603 w = [[2.26088291]] , b = [-29.30490841]\n",
      "step =  41000 error value =  0.20106018308858825 w = [[2.26203604]] , b = [-29.31991317]\n",
      "step =  42000 error value =  0.20083426061735266 w = [[2.26318787]] , b = [-29.33490099]\n",
      "step =  43000 error value =  0.20060884769676834 w = [[2.26433841]] , b = [-29.3498719]\n",
      "step =  44000 error value =  0.20038394256167 w = [[2.26548764]] , b = [-29.36482593]\n",
      "step =  45000 error value =  0.20015954345531686 w = [[2.26663559]] , b = [-29.37976312]\n",
      "step =  46000 error value =  0.1999356486293317 w = [[2.26778225]] , b = [-29.39468353]\n",
      "step =  47000 error value =  0.19971225634365947 w = [[2.26892762]] , b = [-29.40958717]\n",
      "step =  48000 error value =  0.19948936486651278 w = [[2.27007171]] , b = [-29.4244741]\n",
      "step =  49000 error value =  0.19926697247431352 w = [[2.27121451]] , b = [-29.43934436]\n",
      "step =  50000 error value =  0.19904507745165353 w = [[2.27235605]] , b = [-29.45419797]\n",
      "step =  51000 error value =  0.19882367809124069 w = [[2.2734963]] , b = [-29.46903498]\n",
      "step =  52000 error value =  0.1986027726938468 w = [[2.27463529]] , b = [-29.48385544]\n",
      "step =  53000 error value =  0.19838235956826175 w = [[2.27577301]] , b = [-29.49865936]\n",
      "step =  54000 error value =  0.1981624370312397 w = [[2.27690946]] , b = [-29.51344681]\n",
      "step =  55000 error value =  0.19794300340745966 w = [[2.27804465]] , b = [-29.5282178]\n",
      "step =  56000 error value =  0.19772405702946688 w = [[2.27917858]] , b = [-29.54297239]\n",
      "step =  57000 error value =  0.19750559623763067 w = [[2.28031125]] , b = [-29.5577106]\n",
      "step =  58000 error value =  0.19728761938009645 w = [[2.28144267]] , b = [-29.57243248]\n",
      "step =  59000 error value =  0.1970701248127398 w = [[2.28257284]] , b = [-29.58713806]\n",
      "step =  60000 error value =  0.19685311089911706 w = [[2.28370176]] , b = [-29.60182738]\n",
      "step =  61000 error value =  0.19663657601042184 w = [[2.28482944]] , b = [-29.61650048]\n",
      "step =  62000 error value =  0.196420518525433 w = [[2.28595587]] , b = [-29.63115739]\n",
      "step =  63000 error value =  0.19620493683047735 w = [[2.28708107]] , b = [-29.64579816]\n",
      "step =  64000 error value =  0.19598982931937806 w = [[2.28820503]] , b = [-29.66042281]\n",
      "step =  65000 error value =  0.1957751943934148 w = [[2.28932775]] , b = [-29.67503139]\n",
      "step =  66000 error value =  0.1955610304612755 w = [[2.29044924]] , b = [-29.68962393]\n",
      "step =  67000 error value =  0.19534733593900544 w = [[2.29156951]] , b = [-29.70420047]\n",
      "step =  68000 error value =  0.19513410924998206 w = [[2.29268855]] , b = [-29.71876104]\n",
      "step =  69000 error value =  0.19492134882485265 w = [[2.29380637]] , b = [-29.73330569]\n",
      "step =  70000 error value =  0.19470905310150044 w = [[2.29492296]] , b = [-29.74783443]\n",
      "step =  71000 error value =  0.1944972205249982 w = [[2.29603834]] , b = [-29.76234732]\n",
      "step =  72000 error value =  0.19428584954756417 w = [[2.29715251]] , b = [-29.77684439]\n"
     ]
    },
    {
     "ename": "KeyboardInterrupt",
     "evalue": "",
     "output_type": "error",
     "traceback": [
      "\u001b[1;31m---------------------------------------------------------------------------\u001b[0m",
      "\u001b[1;31mKeyboardInterrupt\u001b[0m                         Traceback (most recent call last)",
      "\u001b[1;32m<ipython-input-11-87b13dfaa567>\u001b[0m in \u001b[0;36m<module>\u001b[1;34m\u001b[0m\n\u001b[0;32m      2\u001b[0m \u001b[0mf\u001b[0m\u001b[1;33m=\u001b[0m \u001b[1;32mlambda\u001b[0m \u001b[0mx\u001b[0m \u001b[1;33m:\u001b[0m \u001b[0mloss_func\u001b[0m\u001b[1;33m(\u001b[0m\u001b[0mx_data\u001b[0m\u001b[1;33m,\u001b[0m \u001b[0mt_data\u001b[0m\u001b[1;33m)\u001b[0m\u001b[1;33m\u001b[0m\u001b[1;33m\u001b[0m\u001b[0m\n\u001b[0;32m      3\u001b[0m \u001b[1;32mfor\u001b[0m \u001b[0mstep\u001b[0m \u001b[1;32min\u001b[0m \u001b[0mrange\u001b[0m\u001b[1;33m(\u001b[0m\u001b[1;36m300001\u001b[0m\u001b[1;33m)\u001b[0m\u001b[1;33m:\u001b[0m\u001b[1;33m\u001b[0m\u001b[1;33m\u001b[0m\u001b[0m\n\u001b[1;32m----> 4\u001b[1;33m     \u001b[0mw\u001b[0m\u001b[1;33m-=\u001b[0m \u001b[0mlearning_rate\u001b[0m\u001b[1;33m*\u001b[0m\u001b[0mnumerical_derivative\u001b[0m\u001b[1;33m(\u001b[0m\u001b[0mf\u001b[0m\u001b[1;33m,\u001b[0m\u001b[0mw\u001b[0m\u001b[1;33m)\u001b[0m\u001b[1;33m\u001b[0m\u001b[1;33m\u001b[0m\u001b[0m\n\u001b[0m\u001b[0;32m      5\u001b[0m     \u001b[0mb\u001b[0m\u001b[1;33m-=\u001b[0m \u001b[0mlearning_rate\u001b[0m\u001b[1;33m*\u001b[0m\u001b[0mnumerical_derivative\u001b[0m\u001b[1;33m(\u001b[0m\u001b[0mf\u001b[0m\u001b[1;33m,\u001b[0m\u001b[0mb\u001b[0m\u001b[1;33m)\u001b[0m\u001b[1;33m\u001b[0m\u001b[1;33m\u001b[0m\u001b[0m\n\u001b[0;32m      6\u001b[0m     \u001b[1;32mif\u001b[0m\u001b[1;33m(\u001b[0m\u001b[0mstep\u001b[0m \u001b[1;33m%\u001b[0m \u001b[1;36m1000\u001b[0m\u001b[1;33m==\u001b[0m \u001b[1;36m0\u001b[0m\u001b[1;33m)\u001b[0m\u001b[1;33m:\u001b[0m\u001b[1;33m\u001b[0m\u001b[1;33m\u001b[0m\u001b[0m\n",
      "\u001b[1;32m<ipython-input-6-2d5170cffaab>\u001b[0m in \u001b[0;36mnumerical_derivative\u001b[1;34m(f, x)\u001b[0m\n\u001b[0;32m     13\u001b[0m         \u001b[0mtmp_val\u001b[0m \u001b[1;33m=\u001b[0m \u001b[0mx\u001b[0m\u001b[1;33m[\u001b[0m\u001b[0midx\u001b[0m\u001b[1;33m]\u001b[0m\u001b[1;33m\u001b[0m\u001b[1;33m\u001b[0m\u001b[0m\n\u001b[0;32m     14\u001b[0m         \u001b[0mx\u001b[0m\u001b[1;33m[\u001b[0m\u001b[0midx\u001b[0m\u001b[1;33m]\u001b[0m \u001b[1;33m=\u001b[0m \u001b[0mfloat\u001b[0m\u001b[1;33m(\u001b[0m\u001b[0mtmp_val\u001b[0m\u001b[1;33m)\u001b[0m \u001b[1;33m+\u001b[0m \u001b[0mdelta_x\u001b[0m\u001b[1;33m\u001b[0m\u001b[1;33m\u001b[0m\u001b[0m\n\u001b[1;32m---> 15\u001b[1;33m         \u001b[0mfx1\u001b[0m \u001b[1;33m=\u001b[0m \u001b[0mf\u001b[0m\u001b[1;33m(\u001b[0m\u001b[0mx\u001b[0m\u001b[1;33m)\u001b[0m \u001b[1;31m# f(x+delta_x)\u001b[0m\u001b[1;33m\u001b[0m\u001b[1;33m\u001b[0m\u001b[0m\n\u001b[0m\u001b[0;32m     16\u001b[0m \u001b[1;33m\u001b[0m\u001b[0m\n\u001b[0;32m     17\u001b[0m         \u001b[0mx\u001b[0m\u001b[1;33m[\u001b[0m\u001b[0midx\u001b[0m\u001b[1;33m]\u001b[0m \u001b[1;33m=\u001b[0m \u001b[0mtmp_val\u001b[0m \u001b[1;33m-\u001b[0m \u001b[0mdelta_x\u001b[0m\u001b[1;33m\u001b[0m\u001b[1;33m\u001b[0m\u001b[0m\n",
      "\u001b[1;32m<ipython-input-11-87b13dfaa567>\u001b[0m in \u001b[0;36m<lambda>\u001b[1;34m(x)\u001b[0m\n\u001b[0;32m      1\u001b[0m \u001b[0mlearning_rate\u001b[0m \u001b[1;33m=\u001b[0m \u001b[1;36m1e-3\u001b[0m\u001b[1;33m\u001b[0m\u001b[1;33m\u001b[0m\u001b[0m\n\u001b[1;32m----> 2\u001b[1;33m \u001b[0mf\u001b[0m\u001b[1;33m=\u001b[0m \u001b[1;32mlambda\u001b[0m \u001b[0mx\u001b[0m \u001b[1;33m:\u001b[0m \u001b[0mloss_func\u001b[0m\u001b[1;33m(\u001b[0m\u001b[0mx_data\u001b[0m\u001b[1;33m,\u001b[0m \u001b[0mt_data\u001b[0m\u001b[1;33m)\u001b[0m\u001b[1;33m\u001b[0m\u001b[1;33m\u001b[0m\u001b[0m\n\u001b[0m\u001b[0;32m      3\u001b[0m \u001b[1;32mfor\u001b[0m \u001b[0mstep\u001b[0m \u001b[1;32min\u001b[0m \u001b[0mrange\u001b[0m\u001b[1;33m(\u001b[0m\u001b[1;36m300001\u001b[0m\u001b[1;33m)\u001b[0m\u001b[1;33m:\u001b[0m\u001b[1;33m\u001b[0m\u001b[1;33m\u001b[0m\u001b[0m\n\u001b[0;32m      4\u001b[0m     \u001b[0mw\u001b[0m\u001b[1;33m-=\u001b[0m \u001b[0mlearning_rate\u001b[0m\u001b[1;33m*\u001b[0m\u001b[0mnumerical_derivative\u001b[0m\u001b[1;33m(\u001b[0m\u001b[0mf\u001b[0m\u001b[1;33m,\u001b[0m\u001b[0mw\u001b[0m\u001b[1;33m)\u001b[0m\u001b[1;33m\u001b[0m\u001b[1;33m\u001b[0m\u001b[0m\n\u001b[0;32m      5\u001b[0m     \u001b[0mb\u001b[0m\u001b[1;33m-=\u001b[0m \u001b[0mlearning_rate\u001b[0m\u001b[1;33m*\u001b[0m\u001b[0mnumerical_derivative\u001b[0m\u001b[1;33m(\u001b[0m\u001b[0mf\u001b[0m\u001b[1;33m,\u001b[0m\u001b[0mb\u001b[0m\u001b[1;33m)\u001b[0m\u001b[1;33m\u001b[0m\u001b[1;33m\u001b[0m\u001b[0m\n",
      "\u001b[1;32m<ipython-input-5-2a651780d8b9>\u001b[0m in \u001b[0;36mloss_func\u001b[1;34m(x, t)\u001b[0m\n\u001b[0;32m      3\u001b[0m \u001b[1;32mdef\u001b[0m \u001b[0mloss_func\u001b[0m\u001b[1;33m(\u001b[0m\u001b[0mx\u001b[0m\u001b[1;33m,\u001b[0m\u001b[0mt\u001b[0m\u001b[1;33m)\u001b[0m\u001b[1;33m:\u001b[0m\u001b[1;33m\u001b[0m\u001b[1;33m\u001b[0m\u001b[0m\n\u001b[0;32m      4\u001b[0m     \u001b[0mdelta\u001b[0m \u001b[1;33m=\u001b[0m \u001b[1;36m1e-7\u001b[0m\u001b[1;33m\u001b[0m\u001b[1;33m\u001b[0m\u001b[0m\n\u001b[1;32m----> 5\u001b[1;33m     \u001b[0mz\u001b[0m\u001b[1;33m=\u001b[0m\u001b[0mnp\u001b[0m\u001b[1;33m.\u001b[0m\u001b[0mdot\u001b[0m\u001b[1;33m(\u001b[0m\u001b[0mx\u001b[0m\u001b[1;33m,\u001b[0m\u001b[0mw\u001b[0m\u001b[1;33m)\u001b[0m\u001b[1;33m+\u001b[0m\u001b[0mb\u001b[0m\u001b[1;33m\u001b[0m\u001b[1;33m\u001b[0m\u001b[0m\n\u001b[0m\u001b[0;32m      6\u001b[0m     \u001b[0my\u001b[0m\u001b[1;33m=\u001b[0m\u001b[0msigmoid\u001b[0m\u001b[1;33m(\u001b[0m\u001b[0mz\u001b[0m\u001b[1;33m)\u001b[0m\u001b[1;33m\u001b[0m\u001b[1;33m\u001b[0m\u001b[0m\n\u001b[0;32m      7\u001b[0m     \u001b[1;32mreturn\u001b[0m \u001b[1;33m-\u001b[0m\u001b[0mnp\u001b[0m\u001b[1;33m.\u001b[0m\u001b[0msum\u001b[0m\u001b[1;33m(\u001b[0m\u001b[0mt\u001b[0m\u001b[1;33m*\u001b[0m\u001b[0mnp\u001b[0m\u001b[1;33m.\u001b[0m\u001b[0mlog\u001b[0m\u001b[1;33m(\u001b[0m\u001b[0my\u001b[0m\u001b[1;33m+\u001b[0m\u001b[0mdelta\u001b[0m\u001b[1;33m)\u001b[0m\u001b[1;33m+\u001b[0m\u001b[1;33m(\u001b[0m\u001b[1;36m1\u001b[0m\u001b[1;33m-\u001b[0m\u001b[0mt\u001b[0m\u001b[1;33m)\u001b[0m\u001b[1;33m*\u001b[0m\u001b[0mnp\u001b[0m\u001b[1;33m.\u001b[0m\u001b[0mlog\u001b[0m\u001b[1;33m(\u001b[0m\u001b[1;36m1\u001b[0m\u001b[1;33m-\u001b[0m\u001b[0my\u001b[0m\u001b[1;33m+\u001b[0m\u001b[0mdelta\u001b[0m\u001b[1;33m)\u001b[0m\u001b[1;33m)\u001b[0m\u001b[1;33m\u001b[0m\u001b[1;33m\u001b[0m\u001b[0m\n",
      "\u001b[1;32m<__array_function__ internals>\u001b[0m in \u001b[0;36mdot\u001b[1;34m(*args, **kwargs)\u001b[0m\n",
      "\u001b[1;31mKeyboardInterrupt\u001b[0m: "
     ]
    }
   ],
   "source": [
    "learning_rate = 1e-3\n",
    "f= lambda x : loss_func(x_data, t_data)\n",
    "for step in range(300001):\n",
    "    w-= learning_rate*numerical_derivative(f,w)\n",
    "    b-= learning_rate*numerical_derivative(f,b)\n",
    "    if(step % 1000== 0):\n",
    "          print(\"step = \",step, \"error value = \", loss_func(x_data,t_data), \"w =\",w, \", b =\",b)"
   ]
  },
  {
   "cell_type": "code",
   "execution_count": 18,
   "id": "442b1a4b-081d-4c9a-bf02-949db6877a15",
   "metadata": {},
   "outputs": [
    {
     "name": "stdout",
     "output_type": "stream",
     "text": [
      "[[0.50462042]] 1\n"
     ]
    }
   ],
   "source": [
    "(real_val, logical_val)=predict(12.97)\n",
    "print(real_val, logical_val)"
   ]
  }
 ],
 "metadata": {
  "kernelspec": {
   "display_name": "Python 3",
   "language": "python",
   "name": "python3"
  },
  "language_info": {
   "codemirror_mode": {
    "name": "ipython",
    "version": 3
   },
   "file_extension": ".py",
   "mimetype": "text/x-python",
   "name": "python",
   "nbconvert_exporter": "python",
   "pygments_lexer": "ipython3",
   "version": "3.8.8"
  }
 },
 "nbformat": 4,
 "nbformat_minor": 5
}

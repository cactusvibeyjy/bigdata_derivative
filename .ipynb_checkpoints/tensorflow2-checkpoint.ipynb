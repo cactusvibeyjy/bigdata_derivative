{
 "cells": [
  {
   "cell_type": "code",
   "execution_count": 3,
   "id": "4ca4974e-100d-4a34-8b41-07ef2691c924",
   "metadata": {},
   "outputs": [],
   "source": [
    "import tensorflow as tf\n",
    "import tensorflow.compat.v1 as tf\n",
    "tf.disable_v2_behavior()"
   ]
  },
  {
   "cell_type": "code",
   "execution_count": 5,
   "id": "b53ee1e2-5175-4962-81d8-74af0f417711",
   "metadata": {},
   "outputs": [],
   "source": [
    "tf.set_random_seed(777)"
   ]
  },
  {
   "cell_type": "code",
   "execution_count": 7,
   "id": "12ce5633-1584-42e8-a5db-7253775cc570",
   "metadata": {},
   "outputs": [],
   "source": [
    "x_data=[1,2,3,4,5]\n",
    "t_data=[2,3,4,5,6] #y=x+1"
   ]
  },
  {
   "cell_type": "code",
   "execution_count": 9,
   "id": "25c2a522-a56d-4d04-97b4-0c99198346b6",
   "metadata": {},
   "outputs": [
    {
     "name": "stdout",
     "output_type": "stream",
     "text": [
      "w= <tf.Variable 'weight_1:0' shape=(1,) dtype=float32_ref> b= <tf.Variable 'bias_1:0' shape=(1,) dtype=float32_ref>\n"
     ]
    }
   ],
   "source": [
    "w=tf.Variable(tf.random.normal([1]), name='weight')\n",
    "b=tf.Variable(tf.random.normal([1]), name='bias')\n",
    "print(\"w=\", w, \"b=\", b)"
   ]
  },
  {
   "cell_type": "code",
   "execution_count": 11,
   "id": "a21faf2c-03ae-4870-8e23-81fc0c3ea130",
   "metadata": {},
   "outputs": [],
   "source": [
    "y=x_data*w+b"
   ]
  },
  {
   "cell_type": "code",
   "execution_count": 13,
   "id": "c91eb4a0-3da6-41ab-92dd-f70a222201fe",
   "metadata": {},
   "outputs": [],
   "source": [
    "cost=tf.reduce_mean(tf.square(y-t_data))"
   ]
  },
  {
   "cell_type": "code",
   "execution_count": 16,
   "id": "ecaa5523-c5d4-477b-aa2f-9e340a8181e9",
   "metadata": {},
   "outputs": [],
   "source": [
    "train=tf.train.GradientDescentOptimizer(learning_rate=0.01).minimize(cost)"
   ]
  },
  {
   "cell_type": "code",
   "execution_count": 20,
   "id": "873e22ff-164d-401c-9b97-affb7d94d0df",
   "metadata": {},
   "outputs": [
    {
     "name": "stdout",
     "output_type": "stream",
     "text": [
      "0 21.379023 [-0.41026813] [2.2873998]\n",
      "200 0.11484586 [0.7807271] [1.7916447]\n",
      "400 0.029633814 [0.88861644] [1.4021299]\n",
      "600 0.0076464526 [0.9434207] [1.204269]\n",
      "800 0.0019730255 [0.9712596] [1.103762]\n",
      "1000 0.000509104 [0.9854008] [1.0527079]\n",
      "1200 0.00013136255 [0.9925841] [1.0267737]\n",
      "1400 3.3895343e-05 [0.9962329] [1.0136002]\n",
      "1600 8.747093e-06 [0.99808633] [1.0069089]\n",
      "1800 2.2572433e-06 [0.9990279] [1.0035095]\n",
      "2000 5.8249253e-07 [0.9995061] [1.0017829]\n",
      "2200 1.5046669e-07 [0.999749] [1.000906]\n",
      "2400 3.8935276e-08 [0.9998723] [1.0004609]\n",
      "2600 1.0079501e-08 [0.9999351] [1.0002345]\n",
      "2800 2.627806e-09 [0.9999669] [1.0001198]\n",
      "3000 6.9749434e-10 [0.99998283] [1.0000615]\n",
      "3200 2.0263827e-10 [0.9999908] [1.0000333]\n",
      "3400 6.1538684e-11 [0.9999948] [1.0000185]\n",
      "3600 6.1538684e-11 [0.9999948] [1.0000185]\n",
      "3800 6.1538684e-11 [0.9999948] [1.0000185]\n",
      "4000 6.1538684e-11 [0.9999948] [1.0000185]\n",
      "4200 6.1538684e-11 [0.9999948] [1.0000185]\n",
      "4400 6.1538684e-11 [0.9999948] [1.0000185]\n",
      "4600 6.1538684e-11 [0.9999948] [1.0000185]\n",
      "4800 6.1538684e-11 [0.9999948] [1.0000185]\n",
      "5000 6.1538684e-11 [0.9999948] [1.0000185]\n",
      "5200 6.1538684e-11 [0.9999948] [1.0000185]\n",
      "5400 6.1538684e-11 [0.9999948] [1.0000185]\n",
      "5600 6.1538684e-11 [0.9999948] [1.0000185]\n",
      "5800 6.1538684e-11 [0.9999948] [1.0000185]\n",
      "6000 6.1538684e-11 [0.9999948] [1.0000185]\n",
      "6200 6.1538684e-11 [0.9999948] [1.0000185]\n",
      "6400 6.1538684e-11 [0.9999948] [1.0000185]\n",
      "6600 6.1538684e-11 [0.9999948] [1.0000185]\n",
      "6800 6.1538684e-11 [0.9999948] [1.0000185]\n",
      "7000 6.1538684e-11 [0.9999948] [1.0000185]\n",
      "7200 6.1538684e-11 [0.9999948] [1.0000185]\n",
      "7400 6.1538684e-11 [0.9999948] [1.0000185]\n",
      "7600 6.1538684e-11 [0.9999948] [1.0000185]\n",
      "7800 6.1538684e-11 [0.9999948] [1.0000185]\n",
      "8000 6.1538684e-11 [0.9999948] [1.0000185]\n"
     ]
    }
   ],
   "source": [
    "with tf.Session() as sess:\n",
    "    sess.run(tf.global_variables_initializer())\n",
    "    for step in range(8001):\n",
    "        _, cost_val, w_val, b_val=sess.run([train, cost, w, b])\n",
    "        if step % 200==0:\n",
    "            print(step, cost_val, w_val, b_val)"
   ]
  }
 ],
 "metadata": {
  "kernelspec": {
   "display_name": "Python 3",
   "language": "python",
   "name": "python3"
  },
  "language_info": {
   "codemirror_mode": {
    "name": "ipython",
    "version": 3
   },
   "file_extension": ".py",
   "mimetype": "text/x-python",
   "name": "python",
   "nbconvert_exporter": "python",
   "pygments_lexer": "ipython3",
   "version": "3.8.8"
  }
 },
 "nbformat": 4,
 "nbformat_minor": 5
}

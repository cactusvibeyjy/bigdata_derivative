{
 "cells": [
  {
   "cell_type": "code",
   "execution_count": 3,
   "id": "f1908fa3-89ae-4bac-820a-9f8b46b03a6d",
   "metadata": {},
   "outputs": [],
   "source": [
    "def my_func1(x):\n",
    "    return x**2"
   ]
  },
  {
   "cell_type": "code",
   "execution_count": 4,
   "id": "5a874681-ff2e-46ff-a3ca-23901158416d",
   "metadata": {},
   "outputs": [],
   "source": [
    "def numerical_derivative(f, x):\n",
    "    delta_x=1e-4\n",
    "    return(f(x+delta_x)-f(x-delta_x)) / (2*delta_x)"
   ]
  },
  {
   "cell_type": "code",
   "execution_count": 6,
   "id": "1bbf5ad8-4781-402a-9645-bb09b12ea3cd",
   "metadata": {},
   "outputs": [
    {
     "name": "stdout",
     "output_type": "stream",
     "text": [
      "result == 6.000000000012662\n"
     ]
    }
   ],
   "source": [
    "result = numerical_derivative(my_func1,3)\n",
    "print(\"result ==\", result)"
   ]
  },
  {
   "cell_type": "code",
   "execution_count": 7,
   "id": "4c164947-ec32-48d8-ad27-f1783001670d",
   "metadata": {},
   "outputs": [],
   "source": [
    "import numpy as np\n",
    "def my_func2(x):\n",
    "    return 3*x*(np.exp(x))"
   ]
  },
  {
   "cell_type": "code",
   "execution_count": 8,
   "id": "0c29f97f-6b60-4a88-b182-2fbde3f9201d",
   "metadata": {},
   "outputs": [],
   "source": [
    "def numarical_derivatice(f,x):\n",
    "    delta_x = 1e-4\n",
    "    return (f(x+delta_x) -f(x-delta_x)) / (2*delta_x)"
   ]
  },
  {
   "cell_type": "code",
   "execution_count": 11,
   "id": "971e0b8e-8aef-4b18-a519-2a75fd85c028",
   "metadata": {},
   "outputs": [
    {
     "name": "stdout",
     "output_type": "stream",
     "text": [
      "result == 66.50150507518049\n"
     ]
    }
   ],
   "source": [
    "result = numerical_derivative(my_func2,2)\n",
    "print(\"result ==\", result)"
   ]
  },
  {
   "cell_type": "code",
   "execution_count": 14,
   "id": "f291f890-023e-4adb-baf5-f610d37b8dbd",
   "metadata": {},
   "outputs": [
    {
     "name": "stdout",
     "output_type": "stream",
     "text": [
      "3*exp(2) +3*2*exp(2) == 66.50150489037586\n"
     ]
    }
   ],
   "source": [
    "print(\"3*exp(2) +3*2*exp(2) == \", end='')\n",
    "print(3*np.exp(2)+3*2*np.exp(2))"
   ]
  },
  {
   "cell_type": "code",
   "execution_count": 19,
   "id": "529a4332-eb40-4616-a602-54119e8e53ee",
   "metadata": {},
   "outputs": [],
   "source": [
    "\n",
    "   "
   ]
  },
  {
   "cell_type": "code",
   "execution_count": 35,
   "id": "d0dae4b5-8721-49e3-83a4-3f20a7c3e299",
   "metadata": {},
   "outputs": [],
   "source": [
    "def numerical_derivative(f,x):\n",
    "    delta_x=1e-4\n",
    "    grad = np.zeros_like(x)\n",
    "    \n",
    "    print(\"debug1. intial input variable = \", x)\n",
    "    print(\"debug2. initial input grad = \", grad)\n",
    "    print(\"======================================\")\n",
    "    it = np.nditer(x, flags=['multi_index'], op_flags=['readwrite'])\n",
    "    \n",
    "    while not it.finished:\n",
    "        idx = it.multi_index\n",
    "        print(\"debug 3. idx= \", idx, \", x[idx]= \", x[idx])\n",
    "        tmp_val = x[idx]\n",
    "        x[idx] = float(tmp_val) + delta_x\n",
    "        fx1 = f(x) # f(x+delta_x)\n",
    "        \n",
    "        x[idx] = tmp_val - delta_x\n",
    "        fx2 = f(x) # f(x-delta_x)\n",
    "        grad[idx] = (fx1 - fx2) / (2*delta_x)\n",
    "        \n",
    "        print(\"debug4. grad[idx] = \", grad[idx])\n",
    "        print(\"debug5. grad = \", grad)\n",
    "        print(\"======================================\")\n",
    "        \n",
    "        x[idx] = tmp_val\n",
    "        it.iternext()\n",
    "    return grad"
   ]
  },
  {
   "cell_type": "code",
   "execution_count": 33,
   "id": "1cd1b710-29ea-48ac-941a-53aed8419004",
   "metadata": {},
   "outputs": [],
   "source": [
    "def func2(input_obj):\n",
    "    x=input_obj[0]\n",
    "    y=input_obj[1]\n",
    "    return(2*x +3*x*y + np.power(y,3))"
   ]
  },
  {
   "cell_type": "code",
   "execution_count": 36,
   "id": "0c3af21c-4bb0-4442-9291-05c755d298bb",
   "metadata": {},
   "outputs": [
    {
     "name": "stdout",
     "output_type": "stream",
     "text": [
      "debug1. intial input variable =  [3. 2.]\n",
      "debug2. initial input grad =  [0. 0.]\n",
      "======================================\n",
      "debug 3. idx=  (0,) , x[idx]=  3.0\n",
      "debug4. grad[idx] =  7.999999999999119\n",
      "debug5. grad =  [8. 0.]\n",
      "======================================\n",
      "debug 3. idx=  (1,) , x[idx]=  2.0\n",
      "debug4. grad[idx] =  21.000000010040765\n",
      "debug5. grad =  [ 8.         21.00000001]\n",
      "======================================\n"
     ]
    },
    {
     "data": {
      "text/plain": [
       "array([ 8.        , 21.00000001])"
      ]
     },
     "execution_count": 36,
     "metadata": {},
     "output_type": "execute_result"
    }
   ],
   "source": [
    "numerical_derivative(func2, np.array([3.0, 2.0]))"
   ]
  },
  {
   "cell_type": "code",
   "execution_count": 40,
   "id": "6177b18b-c166-48dc-acc8-59c701abfa80",
   "metadata": {},
   "outputs": [],
   "source": [
    "def func3(input_obj):\n",
    "    w = input_obj[0]\n",
    "    x = input_obj[1]\n",
    "    y = input_obj[2]\n",
    "    z = input_obj[3]\n",
    "    \n",
    "    return (w*x+x*y*z+3*w+z*np.power(y,2))"
   ]
  },
  {
   "cell_type": "code",
   "execution_count": 42,
   "id": "c324c3b2-1b17-4cef-a5e0-429b5b3ec784",
   "metadata": {},
   "outputs": [
    {
     "name": "stdout",
     "output_type": "stream",
     "text": [
      "debug1. intial input variable =  [3. 2. 3. 4.]\n",
      "debug2. initial input grad =  [0. 0. 0. 0.]\n",
      "======================================\n",
      "debug 3. idx=  (0,) , x[idx]=  3.0\n",
      "debug4. grad[idx] =  5.000000000023874\n",
      "debug5. grad =  [5. 0. 0. 0.]\n",
      "======================================\n",
      "debug 3. idx=  (1,) , x[idx]=  2.0\n",
      "debug4. grad[idx] =  15.000000000000568\n",
      "debug5. grad =  [ 5. 15.  0.  0.]\n",
      "======================================\n",
      "debug 3. idx=  (2,) , x[idx]=  3.0\n",
      "debug4. grad[idx] =  31.999999999996476\n",
      "debug5. grad =  [ 5. 15. 32.  0.]\n",
      "======================================\n",
      "debug 3. idx=  (3,) , x[idx]=  4.0\n",
      "debug4. grad[idx] =  15.000000000000568\n",
      "debug5. grad =  [ 5. 15. 32. 15.]\n",
      "======================================\n"
     ]
    },
    {
     "data": {
      "text/plain": [
       "array([ 5., 15., 32., 15.])"
      ]
     },
     "execution_count": 42,
     "metadata": {},
     "output_type": "execute_result"
    }
   ],
   "source": [
    "numerical_derivative(func3, np.array([3.0, 2.0, 3.0, 4.0]))"
   ]
  }
 ],
 "metadata": {
  "kernelspec": {
   "display_name": "Python 3",
   "language": "python",
   "name": "python3"
  },
  "language_info": {
   "codemirror_mode": {
    "name": "ipython",
    "version": 3
   },
   "file_extension": ".py",
   "mimetype": "text/x-python",
   "name": "python",
   "nbconvert_exporter": "python",
   "pygments_lexer": "ipython3",
   "version": "3.8.8"
  }
 },
 "nbformat": 4,
 "nbformat_minor": 5
}

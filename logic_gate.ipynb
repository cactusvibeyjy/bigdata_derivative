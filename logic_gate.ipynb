{
 "cells": [
  {
   "cell_type": "code",
   "execution_count": 3,
   "id": "b9675039-d56f-4744-83f8-1f7e37633a1f",
   "metadata": {},
   "outputs": [],
   "source": [
    "import numpy as np"
   ]
  },
  {
   "cell_type": "code",
   "execution_count": 4,
   "id": "e479565f-73f6-4ebe-a6d6-b1b3251a6d82",
   "metadata": {},
   "outputs": [],
   "source": [
    "def sigmoid(x):\n",
    "    return 1/(1+np.exp(-x))"
   ]
  },
  {
   "cell_type": "code",
   "execution_count": 6,
   "id": "d1e69cc6-a80d-424d-8bd2-7b6f0d1b3847",
   "metadata": {},
   "outputs": [],
   "source": [
    "def numerical_derivative(f,x):\n",
    "    delta_x=1e-4\n",
    "    grad = np.zeros_like(x)\n",
    "    \n",
    "#     print(\"debug1. intial input variable = \", x)\n",
    "#     print(\"debug2. initial input grad = \", grad)\n",
    "#     print(\"======================================\")\n",
    "    it = np.nditer(x, flags=['multi_index'], op_flags=['readwrite'])\n",
    "    \n",
    "    while not it.finished:\n",
    "        idx = it.multi_index\n",
    "#         print(\"debug 3. idx= \", idx, \", x[idx]= \", x[idx])\n",
    "        tmp_val = x[idx]\n",
    "        x[idx] = float(tmp_val) + delta_x\n",
    "        fx1 = f(x) # f(x+delta_x)\n",
    "        \n",
    "        x[idx] = tmp_val - delta_x\n",
    "        fx2 = f(x) # f(x-delta_x)\n",
    "        grad[idx] = (fx1 - fx2) / (2*delta_x)\n",
    "        \n",
    "#         print(\"debug4. grad[idx] = \", grad[idx])\n",
    "#         print(\"debug5. grad = \", grad)\n",
    "#         print(\"======================================\")\n",
    "        \n",
    "        x[idx] = tmp_val\n",
    "        it.iternext()\n",
    "    return grad"
   ]
  },
  {
   "cell_type": "code",
   "execution_count": 34,
   "id": "71f4c0dd-6c53-450c-a577-8506f738b8e6",
   "metadata": {},
   "outputs": [],
   "source": [
    "class LogicGate: #__ 언더바 두개의 의미는 자바에서의 private과 같다\n",
    "    def __init__(self, gate_name,xdata,tdata):\n",
    "        self.name=gate_name\n",
    "        self.__xdata=xdata.reshape(4,2)\n",
    "        self.__tdata=tdata.reshape(4,1)\n",
    "        \n",
    "        self.__w=np.random.rand(2,1) #3X1 행렬\n",
    "        self.__b=np.random.rand(1)\n",
    "        \n",
    "        self.__learning_rate=1e-2\n",
    "        \n",
    "    def __loss_func(self):\n",
    "        delta = 1e-7\n",
    "        z=np.dot(self.__xdata, self.__w)+self.__b\n",
    "        y=sigmoid(z)\n",
    "        return -np.sum(self.__tdata*np.log(y+delta)+(1-self.__tdata)*np.log(1-y+delta))\n",
    "    \n",
    "    \n",
    "    def train(self):\n",
    "        f= lambda x : self.__loss_func()\n",
    "        print(\"Initial error value=\", self.__loss_func())\n",
    "        for step in range(30001):\n",
    "            self.__w-= self.__learning_rate*numerical_derivative(f,self.__w)\n",
    "            self.__b-= self.__learning_rate*numerical_derivative(f,self.__b)\n",
    "            if(step % 4000== 0):\n",
    "                  print(\"step = \",step, \"error value = \", self.__loss_func())\n",
    "        \n",
    "    def predict(self, input_data):\n",
    "        z=np.dot(input_data, self.__w)+self.__b\n",
    "        y=sigmoid(z)\n",
    "\n",
    "        if y>0.5: \n",
    "            result = 1\n",
    "        else:\n",
    "            result =0\n",
    "\n",
    "        return y, result\n",
    "\n",
    "    "
   ]
  },
  {
   "cell_type": "code",
   "execution_count": 54,
   "id": "cd45e18b-7757-4cfc-91ef-e3ce679a3299",
   "metadata": {},
   "outputs": [],
   "source": [
    "xdata=np.array([[0,0],[0,1],[1,0],[1,1]])\n",
    "tdata=np.array([0,0,0,1])\n",
    "tdata1=np.array([0,1,1,1])\n",
    "tdata2=np.array([1,1,1,0])\n",
    "tdata3=np.array([0,1,1,0])"
   ]
  },
  {
   "cell_type": "code",
   "execution_count": 55,
   "id": "d8795c0e-2080-4ad7-b9d9-aa446eeecdfb",
   "metadata": {},
   "outputs": [
    {
     "name": "stdout",
     "output_type": "stream",
     "text": [
      "Initial error value= 4.435548881957042\n",
      "step =  0 error value =  4.383372105546778\n",
      "step =  4000 error value =  0.39600259529503656\n",
      "step =  8000 error value =  0.21298749852224014\n",
      "step =  12000 error value =  0.14439947874780495\n",
      "step =  16000 error value =  0.10885148273924888\n",
      "step =  20000 error value =  0.08720442719376234\n",
      "step =  24000 error value =  0.07267287634225153\n",
      "step =  28000 error value =  0.06225818414674586\n",
      "Initial error value= 1.5930177399296317\n",
      "step =  0 error value =  1.5909769152031312\n",
      "step =  4000 error value =  0.22725999092885127\n",
      "step =  8000 error value =  0.11657753947568225\n",
      "step =  12000 error value =  0.07776475906698364\n",
      "step =  16000 error value =  0.058184908721662064\n",
      "step =  20000 error value =  0.046425771900273784\n",
      "step =  24000 error value =  0.03859586897090879\n",
      "step =  28000 error value =  0.03301335425874313\n",
      "Initial error value= 2.4378283490874377\n",
      "step =  0 error value =  2.4339909488769544\n",
      "step =  4000 error value =  0.39127546848697037\n",
      "step =  8000 error value =  0.21155825136846884\n",
      "step =  12000 error value =  0.1437287755822791\n",
      "step =  16000 error value =  0.1084659372084524\n",
      "step =  20000 error value =  0.08695517350211257\n",
      "step =  24000 error value =  0.07249890682600123\n",
      "step =  28000 error value =  0.062130041510024776\n",
      "Initial error value= 3.338075029366908\n",
      "step =  0 error value =  3.323162224167755\n",
      "step =  4000 error value =  2.7725879271968212\n",
      "step =  8000 error value =  2.772587922239878\n",
      "step =  12000 error value =  2.772587922239862\n",
      "step =  16000 error value =  2.7725879222398615\n",
      "step =  20000 error value =  2.7725879222398615\n",
      "step =  24000 error value =  2.7725879222398615\n",
      "step =  28000 error value =  2.7725879222398615\n"
     ]
    }
   ],
   "source": [
    "and_obj=LogicGate(\"AND_GATE\", xdata,tdata)\n",
    "and_obj.train()\n",
    "or_obj=LogicGate(\"OR_GATE\", xdata,tdata1)\n",
    "or_obj.train()\n",
    "nand_obj=LogicGate(\"NAND_GATE\", xdata,tdata2)\n",
    "nand_obj.train()\n",
    "xor_obj=LogicGate(\"XOR_GATE\", xdata,tdata3)\n",
    "xor_obj.train()"
   ]
  },
  {
   "cell_type": "code",
   "execution_count": 47,
   "id": "0142778f-9b35-413b-b06d-1d46603dace3",
   "metadata": {},
   "outputs": [
    {
     "name": "stdout",
     "output_type": "stream",
     "text": [
      "XOR_GATE\n",
      "[0 0] = 0\n",
      "[0 1] = 0\n",
      "[1 0] = 0\n",
      "[1 1] = 1\n"
     ]
    }
   ],
   "source": [
    "# print(and_obj.name)\n",
    "# test_data=np.array([[0,0],[0,1],[1,0],[1,1]])\n",
    "# for input_data in test_data:\n",
    "#     (real_val, logical_val)=and_obj.predict(input_data)\n",
    "#     print(input_data, \"=\",logical_val)\n",
    "print(xor_obj.name)\n",
    "test_data=np.array([[0,0],[0,1],[1,0],[1,1]])\n",
    "for input_data in test_data:\n",
    "    (real_val, logical_val)=xor_obj.predict(input_data)\n",
    "    print(input_data, \"=\",logical_val)"
   ]
  },
  {
   "cell_type": "code",
   "execution_count": 56,
   "id": "ba5e3040-dcb1-4d09-8faa-55bfc5d1746a",
   "metadata": {},
   "outputs": [
    {
     "name": "stdout",
     "output_type": "stream",
     "text": [
      "[0 0] = 0|n\n",
      "[0 1] = 1|n\n",
      "[1 0] = 1|n\n",
      "[1 1] = 0|n\n"
     ]
    }
   ],
   "source": [
    "input_data=np.array([[0,0],[0,1],[1,0],[1,1]])\n",
    "s1=[]\n",
    "s2=[]\n",
    "new_input_data=[]\n",
    "final_output=[]\n",
    "\n",
    "for index in range(len(input_data)):\n",
    "    s1=nand_obj.predict(input_data[index])\n",
    "    s2=or_obj.predict(input_data[index])\n",
    "    \n",
    "    new_input_data.append(s1[-1])\n",
    "    new_input_data.append(s2[-1])\n",
    "    (sigmoid_val, logical_val)= and_obj.predict(np.array(new_input_data))\n",
    "    final_output.append(logical_val)\n",
    "    new_input_data=[]\n",
    "    \n",
    "for index in range(len(input_data)):\n",
    "    print(input_data[index], \"=\", final_output[index], end='')\n",
    "    print(\"|n\")\n",
    "    "
   ]
  }
 ],
 "metadata": {
  "kernelspec": {
   "display_name": "Python 3",
   "language": "python",
   "name": "python3"
  },
  "language_info": {
   "codemirror_mode": {
    "name": "ipython",
    "version": 3
   },
   "file_extension": ".py",
   "mimetype": "text/x-python",
   "name": "python",
   "nbconvert_exporter": "python",
   "pygments_lexer": "ipython3",
   "version": "3.8.8"
  }
 },
 "nbformat": 4,
 "nbformat_minor": 5
}

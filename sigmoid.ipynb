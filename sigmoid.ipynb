{
 "cells": [
  {
   "cell_type": "code",
   "execution_count": 1,
   "id": "1bfde750-fa4e-4ebd-ab35-7a0497979101",
   "metadata": {},
   "outputs": [],
   "source": [
    "import numpy as np"
   ]
  },
  {
   "cell_type": "code",
   "execution_count": 19,
   "id": "af35de53-cab8-4c6f-b20b-77248d3b0a43",
   "metadata": {},
   "outputs": [],
   "source": [
    "x_data=np.array([2,4,6,8,10,12,14,16,18,20]).reshape(10,1)\n",
    "t_data=np.array([0,0,0,0,0,0,1,1,1,1]).reshape(10,1)\n"
   ]
  },
  {
   "cell_type": "code",
   "execution_count": 26,
   "id": "e6b60598-68c0-4913-869b-b830ed1fdf26",
   "metadata": {},
   "outputs": [],
   "source": [
    "x_data=np.array([[2,4],[4,11],[6,6],[8,5],[10,7],[12,16],[14,8],[16,3],[18,7]])\n",
    "t_data=np.array([0,0,0,0,1,1,1,1,1]).reshape(9,1)\n"
   ]
  },
  {
   "cell_type": "code",
   "execution_count": 3,
   "id": "447e5d50-25c0-4125-a1fb-b04df0b7924f",
   "metadata": {},
   "outputs": [
    {
     "name": "stdout",
     "output_type": "stream",
     "text": [
      "[[ 2]\n",
      " [ 4]\n",
      " [ 6]\n",
      " [ 8]\n",
      " [10]\n",
      " [12]\n",
      " [14]\n",
      " [16]\n",
      " [18]\n",
      " [20]]\n",
      "[[0]\n",
      " [0]\n",
      " [0]\n",
      " [0]\n",
      " [0]\n",
      " [0]\n",
      " [1]\n",
      " [1]\n",
      " [1]\n",
      " [1]]\n"
     ]
    }
   ],
   "source": [
    "print(x_data)\n",
    "print(t_data)"
   ]
  },
  {
   "cell_type": "code",
   "execution_count": 27,
   "id": "fbed0f70-77a4-4918-83e9-060374636e39",
   "metadata": {},
   "outputs": [
    {
     "name": "stdout",
     "output_type": "stream",
     "text": [
      "[[0.76206988]\n",
      " [0.81064884]] [0.51618557]\n"
     ]
    }
   ],
   "source": [
    "w=np.random.rand(2,1) #3X1 행렬\n",
    "b=np.random.rand(1)\n",
    "print(w,b)"
   ]
  },
  {
   "cell_type": "code",
   "execution_count": 5,
   "id": "ed8ee067-4a38-46b8-8e69-24a8407906e1",
   "metadata": {},
   "outputs": [],
   "source": [
    "def sigmoid(x):\n",
    "    return 1/(1+np.exp(-x))\n",
    "def loss_func(x,t):\n",
    "    delta = 1e-7\n",
    "    z=np.dot(x,w)+b\n",
    "    y=sigmoid(z)\n",
    "    return -np.sum(t*np.log(y+delta)+(1-t)*np.log(1-y+delta))\n",
    "    "
   ]
  },
  {
   "cell_type": "code",
   "execution_count": 6,
   "id": "579c427e-52ec-4a51-b763-f900726e1be2",
   "metadata": {},
   "outputs": [],
   "source": [
    "def numerical_derivative(f,x):\n",
    "    delta_x=1e-4\n",
    "    grad = np.zeros_like(x)\n",
    "    \n",
    "#     print(\"debug1. intial input variable = \", x)\n",
    "#     print(\"debug2. initial input grad = \", grad)\n",
    "#     print(\"======================================\")\n",
    "    it = np.nditer(x, flags=['multi_index'], op_flags=['readwrite'])\n",
    "    \n",
    "    while not it.finished:\n",
    "        idx = it.multi_index\n",
    "#         print(\"debug 3. idx= \", idx, \", x[idx]= \", x[idx])\n",
    "        tmp_val = x[idx]\n",
    "        x[idx] = float(tmp_val) + delta_x\n",
    "        fx1 = f(x) # f(x+delta_x)\n",
    "        \n",
    "        x[idx] = tmp_val - delta_x\n",
    "        fx2 = f(x) # f(x-delta_x)\n",
    "        grad[idx] = (fx1 - fx2) / (2*delta_x)\n",
    "        \n",
    "#         print(\"debug4. grad[idx] = \", grad[idx])\n",
    "#         print(\"debug5. grad = \", grad)\n",
    "#         print(\"======================================\")\n",
    "        \n",
    "        x[idx] = tmp_val\n",
    "        it.iternext()\n",
    "    return grad"
   ]
  },
  {
   "cell_type": "code",
   "execution_count": 14,
   "id": "5ebc6d07-6229-41cd-a7ef-c5ddca195a9d",
   "metadata": {},
   "outputs": [],
   "source": [
    "def predict(x):\n",
    "    z=np.dot(x,w)+b\n",
    "    y=sigmoid(z)\n",
    "    \n",
    "    if y>0.5: \n",
    "        result = 1\n",
    "    else:\n",
    "        result =0\n",
    "        \n",
    "    return y, result"
   ]
  },
  {
   "cell_type": "code",
   "execution_count": 28,
   "id": "80eef5b7-9d5f-4c44-8196-38e23489ece5",
   "metadata": {},
   "outputs": [
    {
     "name": "stdout",
     "output_type": "stream",
     "text": [
      "step =  0 error value =  37.286129320555816 w = [[0.74222993]\n",
      " [0.78498586]] , b = [0.51221433]\n",
      "step =  4000 error value =  2.266432698085236 w = [[ 0.4211786 ]\n",
      " [-0.08638247]] , b = [-2.63593587]\n",
      "step =  8000 error value =  1.5923118762498056 w = [[ 0.53600257]\n",
      " [-0.02652659]] , b = [-4.25884163]\n",
      "step =  12000 error value =  1.2821978108956757 w = [[0.62262189]\n",
      " [0.00870751]] , b = [-5.36468524]\n",
      "step =  16000 error value =  1.1005115175614564 w = [[0.69267449]\n",
      " [0.03385233]] , b = [-6.2124055]\n",
      "step =  20000 error value =  0.9788854235129167 w = [[0.75178567]\n",
      " [0.05388607]] , b = [-6.90642969]\n",
      "step =  24000 error value =  0.8903253081028012 w = [[0.8030751 ]\n",
      " [0.07102844]] , b = [-7.49882219]\n",
      "step =  28000 error value =  0.8220307952521354 w = [[0.84845474]\n",
      " [0.08643082]] , b = [-8.01912324]\n",
      "step =  32000 error value =  0.7671391576589079 w = [[0.88918497]\n",
      " [0.10075038]] , b = [-8.48563242]\n",
      "step =  36000 error value =  0.721630071588269 w = [[0.92614413]\n",
      " [0.11438639]] , b = [-8.91043652]\n",
      "step =  40000 error value =  0.6829847616126024 w = [[0.95997211]\n",
      " [0.12759081]] , b = [-9.30192014]\n",
      "step =  44000 error value =  0.6495398806370709 w = [[0.99115254]\n",
      " [0.14052524]] , b = [-9.66612943]\n",
      "step =  48000 error value =  0.6201494819084185 w = [[1.02006257]\n",
      " [0.15329263]] , b = [-10.00756313]\n",
      "step =  52000 error value =  0.5939961720223735 w = [[1.04700435]\n",
      " [0.16595605]] , b = [-10.32965612]\n",
      "step =  56000 error value =  0.5704797755824219 w = [[1.07222554]\n",
      " [0.17855073]] , b = [-10.6350882]\n",
      "step =  60000 error value =  0.549148677298548 w = [[1.09593308]\n",
      " [0.19109219]] , b = [-10.92598864]\n",
      "step =  64000 error value =  0.5296558329379235 w = [[1.11830253]\n",
      " [0.2035821 ]] , b = [-11.20407604]\n",
      "step =  68000 error value =  0.5117296437072468 w = [[1.13948456]\n",
      " [0.2160127 ]] , b = [-11.47075657]\n",
      "step =  72000 error value =  0.49515411385960284 w = [[1.15960953]\n",
      " [0.22837021]] , b = [-11.72719476]\n",
      "step =  76000 error value =  0.47975499212850486 w = [[1.17879082]\n",
      " [0.24063753]] , b = [-11.97436549]\n",
      "step =  80000 error value =  0.4653898796396413 w = [[1.19712732]\n",
      " [0.25279628]] , b = [-12.21309301]\n",
      "step =  84000 error value =  0.45194103344812486 w = [[1.21470537]\n",
      " [0.26482825]] , b = [-12.44408051]\n",
      "step =  88000 error value =  0.4393100432325902 w = [[1.23160039]\n",
      " [0.27671654]] , b = [-12.6679331]\n",
      "step =  92000 error value =  0.42741383561206947 w = [[1.24787818]\n",
      " [0.28844614]] , b = [-12.88517563]\n",
      "step =  96000 error value =  0.41618163600824815 w = [[1.26359617]\n",
      " [0.30000436]] , b = [-13.09626677]\n",
      "step =  100000 error value =  0.4055526318083969 w = [[1.27880442]\n",
      " [0.31138095]] , b = [-13.30161025]\n",
      "step =  104000 error value =  0.39547415610095055 w = [[1.29354661]\n",
      " [0.32256803]] , b = [-13.50156386]\n",
      "step =  108000 error value =  0.3859002624109811 w = [[1.30786085]\n",
      " [0.33355996]] , b = [-13.69644663]\n",
      "step =  112000 error value =  0.3767905961926254 w = [[1.32178045]\n",
      " [0.34435313]] , b = [-13.88654481]\n",
      "step =  116000 error value =  0.3681094936686628 w = [[1.33533459]\n",
      " [0.35494571]] , b = [-14.07211659]\n",
      "step =  120000 error value =  0.3598252563366879 w = [[1.34854889]\n",
      " [0.36533735]] , b = [-14.25339613]\n",
      "step =  124000 error value =  0.3519095622931078 w = [[1.36144593]\n",
      " [0.37552898]] , b = [-14.43059676]\n",
      "step =  128000 error value =  0.34433698492373205 w = [[1.37404566]\n",
      " [0.38552255]] , b = [-14.60391372]\n",
      "step =  132000 error value =  0.3370845964615798 w = [[1.38636582]\n",
      " [0.39532084]] , b = [-14.77352642]\n",
      "step =  136000 error value =  0.330131639101335 w = [[1.3984222 ]\n",
      " [0.40492727]] , b = [-14.93960033]\n",
      "step =  140000 error value =  0.32345925026226385 w = [[1.41022896]\n",
      " [0.41434574]] , b = [-15.1022886]\n",
      "step =  144000 error value =  0.31705023154712203 w = [[1.42179885]\n",
      " [0.42358052]] , b = [-15.26173341]\n",
      "step =  148000 error value =  0.3108888531972777 w = [[1.43314337]\n",
      " [0.43263611]] , b = [-15.41806716]\n",
      "step =  152000 error value =  0.3049606875719514 w = [[1.444273  ]\n",
      " [0.44151718]] , b = [-15.57141344]\n",
      "step =  156000 error value =  0.2992524665115866 w = [[1.45519727]\n",
      " [0.45022851]] , b = [-15.72188791]\n",
      "step =  160000 error value =  0.2937519584788389 w = [[1.46592494]\n",
      " [0.45877488]] , b = [-15.86959906]\n",
      "step =  164000 error value =  0.28844786217650487 w = [[1.47646404]\n",
      " [0.46716108]] , b = [-16.01464884]\n",
      "step =  168000 error value =  0.2833297139736854 w = [[1.48682201]\n",
      " [0.47539183]] , b = [-16.15713324]\n",
      "step =  172000 error value =  0.2783878069697284 w = [[1.49700573]\n",
      " [0.4834718 ]] , b = [-16.29714283]\n",
      "step =  176000 error value =  0.27361311992066756 w = [[1.5070216 ]\n",
      " [0.49140554]] , b = [-16.43476315]\n",
      "step =  180000 error value =  0.2689972545675902 w = [[1.51687561]\n",
      " [0.49919751]] , b = [-16.57007516]\n",
      "step =  184000 error value =  0.26453238015889124 w = [[1.52657334]\n",
      " [0.50685204]] , b = [-16.70315555]\n",
      "step =  188000 error value =  0.2602111841615979 w = [[1.53612005]\n",
      " [0.51437332]] , b = [-16.8340771]\n",
      "step =  192000 error value =  0.2560268283217482 w = [[1.54552067]\n",
      " [0.52176542]] , b = [-16.96290894]\n",
      "step =  196000 error value =  0.2519729093678635 w = [[1.55477986]\n",
      " [0.52903227]] , b = [-17.0897168]\n",
      "step =  200000 error value =  0.24804342376135669 w = [[1.56390202]\n",
      " [0.53617767]] , b = [-17.21456326]\n",
      "step =  204000 error value =  0.24423273598809334 w = [[1.57289132]\n",
      " [0.54320527]] , b = [-17.33750797]\n",
      "step =  208000 error value =  0.2405355499598879 w = [[1.58175171]\n",
      " [0.5501186 ]] , b = [-17.45860782]\n",
      "step =  212000 error value =  0.2369468831568295 w = [[1.59048695]\n",
      " [0.55692106]] , b = [-17.57791712]\n",
      "step =  216000 error value =  0.2334620431930894 w = [[1.59910061]\n",
      " [0.56361592]] , b = [-17.69548777]\n",
      "step =  220000 error value =  0.23007660653233442 w = [[1.60759611]\n",
      " [0.57020632]] , b = [-17.81136943]\n",
      "step =  224000 error value =  0.2267863991153621 w = [[1.6159767 ]\n",
      " [0.57669529]] , b = [-17.92560958]\n",
      "step =  228000 error value =  0.22358747869351628 w = [[1.62424548]\n",
      " [0.58308573]] , b = [-18.03825374]\n",
      "step =  232000 error value =  0.22047611868789938 w = [[1.63240543]\n",
      " [0.58938046]] , b = [-18.14934552]\n",
      "step =  236000 error value =  0.21744879341654527 w = [[1.6404594 ]\n",
      " [0.59558215]] , b = [-18.25892674]\n",
      "step =  240000 error value =  0.21450216455110474 w = [[1.64841011]\n",
      " [0.60169341]] , b = [-18.36703756]\n",
      "step =  244000 error value =  0.21163306868105233 w = [[1.6562602 ]\n",
      " [0.60771672]] , b = [-18.47371652]\n",
      "step =  248000 error value =  0.20883850587751385 w = [[1.66401217]\n",
      " [0.61365449]] , b = [-18.57900068]\n",
      "step =  252000 error value =  0.20611562916139162 w = [[1.67166845]\n",
      " [0.61950901]] , b = [-18.68292565]\n",
      "step =  256000 error value =  0.20346173479076962 w = [[1.67923136]\n",
      " [0.62528251]] , b = [-18.7855257]\n",
      "step =  260000 error value =  0.20087425329230796 w = [[1.68670314]\n",
      " [0.63097713]] , b = [-18.88683381]\n",
      "step =  264000 error value =  0.19835074116906612 w = [[1.69408594]\n",
      " [0.63659493]] , b = [-18.98688175]\n",
      "step =  268000 error value =  0.1958888732246294 w = [[1.70138186]\n",
      " [0.64213788]] , b = [-19.08570011]\n",
      "step =  272000 error value =  0.19348643544943206 w = [[1.70859288]\n",
      " [0.64760791]] , b = [-19.1833184]\n",
      "step =  276000 error value =  0.1911413184208692 w = [[1.71572095]\n",
      " [0.65300685]] , b = [-19.27976507]\n",
      "step =  280000 error value =  0.18885151117342033 w = [[1.72276793]\n",
      " [0.65833648]] , b = [-19.37506757]\n",
      "step =  284000 error value =  0.18661509549961952 w = [[1.72973564]\n",
      " [0.66359851]] , b = [-19.46925239]\n",
      "step =  288000 error value =  0.18443024064617355 w = [[1.7366258 ]\n",
      " [0.66879459]] , b = [-19.56234513]\n",
      "step =  292000 error value =  0.18229519837319536 w = [[1.74344011]\n",
      " [0.67392631]] , b = [-19.65437051]\n",
      "step =  296000 error value =  0.180208298347405 w = [[1.75018021]\n",
      " [0.67899523]] , b = [-19.74535241]\n",
      "step =  300000 error value =  0.17816794384288115 w = [[1.75684766]\n",
      " [0.68400281]] , b = [-19.83531396]\n"
     ]
    }
   ],
   "source": [
    "learning_rate = 1e-3\n",
    "f= lambda x : loss_func(x_data, t_data)\n",
    "for step in range(300001):\n",
    "    w-= learning_rate*numerical_derivative(f,w)\n",
    "    b-= learning_rate*numerical_derivative(f,b)\n",
    "    if(step % 4000== 0):\n",
    "          print(\"step = \",step, \"error value = \", loss_func(x_data,t_data), \"w =\",w, \", b =\",b)"
   ]
  },
  {
   "cell_type": "code",
   "execution_count": 34,
   "id": "442b1a4b-081d-4c9a-bf02-949db6877a15",
   "metadata": {},
   "outputs": [
    {
     "name": "stdout",
     "output_type": "stream",
     "text": [
      "[5.42807529e-06] 0\n"
     ]
    }
   ],
   "source": [
    "(real_val, logical_val)=predict([4,1])\n",
    "print(real_val, logical_val)"
   ]
  },
  {
   "cell_type": "code",
   "execution_count": 41,
   "id": "f7f8c9b1-7dd8-4234-a173-91870bb4b14a",
   "metadata": {},
   "outputs": [
    {
     "data": {
      "text/plain": [
       "(array([0.44649837]), 0)"
      ]
     },
     "execution_count": 41,
     "metadata": {},
     "output_type": "execute_result"
    }
   ],
   "source": [
    "test_data=np.array([10,3])\n",
    "predict(test_data)"
   ]
  }
 ],
 "metadata": {
  "kernelspec": {
   "display_name": "Python 3",
   "language": "python",
   "name": "python3"
  },
  "language_info": {
   "codemirror_mode": {
    "name": "ipython",
    "version": 3
   },
   "file_extension": ".py",
   "mimetype": "text/x-python",
   "name": "python",
   "nbconvert_exporter": "python",
   "pygments_lexer": "ipython3",
   "version": "3.8.8"
  }
 },
 "nbformat": 4,
 "nbformat_minor": 5
}

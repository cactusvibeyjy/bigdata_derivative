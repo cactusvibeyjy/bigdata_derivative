{
 "cells": [
  {
   "cell_type": "code",
   "execution_count": 1,
   "id": "40c890db-83cd-4296-b688-a7da6fb37d53",
   "metadata": {},
   "outputs": [],
   "source": [
    "import numpy as np"
   ]
  },
  {
   "cell_type": "code",
   "execution_count": 30,
   "id": "e0bc293d-e3d9-4243-913b-c43674b42790",
   "metadata": {},
   "outputs": [],
   "source": [
    "x_data=np.array([1,2,3,4,5]).reshape(5,1)\n",
    "t_data=np.array([11,22,31,43,51]).reshape(5,1) #y=10x+1, w=1, b=2"
   ]
  },
  {
   "cell_type": "code",
   "execution_count": 18,
   "id": "881f8ea3-ea0d-4e3c-87a6-4710d7584d9a",
   "metadata": {},
   "outputs": [
    {
     "name": "stdout",
     "output_type": "stream",
     "text": [
      "[[0.67201501]] [0.93962764]\n"
     ]
    }
   ],
   "source": [
    "w=np.random.rand(1,1)\n",
    "b=np.random.rand(1)\n",
    "print(w,b)"
   ]
  },
  {
   "cell_type": "code",
   "execution_count": 15,
   "id": "599f7746-622c-4a9c-8834-ce773098e11d",
   "metadata": {},
   "outputs": [],
   "source": [
    "def loss_func(x,t):\n",
    "    y=np.dot(x,w)+b\n",
    "    return(np.sum((t-y)**2))/len(x)"
   ]
  },
  {
   "cell_type": "code",
   "execution_count": 5,
   "id": "b6fbc855-0531-413a-afc3-9ac92f3e17d9",
   "metadata": {},
   "outputs": [],
   "source": [
    "def numerical_derivative(f,x):\n",
    "    delta_x=1e-4\n",
    "    grad = np.zeros_like(x)\n",
    "    \n",
    "#     print(\"debug1. intial input variable = \", x)\n",
    "#     print(\"debug2. initial input grad = \", grad)\n",
    "#     print(\"======================================\")\n",
    "    it = np.nditer(x, flags=['multi_index'], op_flags=['readwrite'])\n",
    "    \n",
    "    while not it.finished:\n",
    "        idx = it.multi_index\n",
    "#         print(\"debug 3. idx= \", idx, \", x[idx]= \", x[idx])\n",
    "        tmp_val = x[idx]\n",
    "        x[idx] = float(tmp_val) + delta_x\n",
    "        fx1 = f(x) # f(x+delta_x)\n",
    "        \n",
    "        x[idx] = tmp_val - delta_x\n",
    "        fx2 = f(x) # f(x-delta_x)\n",
    "        grad[idx] = (fx1 - fx2) / (2*delta_x)\n",
    "        \n",
    "#         print(\"debug4. grad[idx] = \", grad[idx])\n",
    "#         print(\"debug5. grad = \", grad)\n",
    "#         print(\"======================================\")\n",
    "        \n",
    "        x[idx] = tmp_val\n",
    "        it.iternext()\n",
    "    return grad"
   ]
  },
  {
   "cell_type": "code",
   "execution_count": 6,
   "id": "e0de616c-c07c-4bd5-8a79-d9ce165ddc3e",
   "metadata": {},
   "outputs": [],
   "source": [
    "def predict(x):\n",
    "    y=np.dot(x,w)+b\n",
    "    return y"
   ]
  },
  {
   "cell_type": "code",
   "execution_count": 33,
   "id": "b1b03c03-a735-4b36-995f-5063ea66b8c7",
   "metadata": {},
   "outputs": [
    {
     "name": "stdout",
     "output_type": "stream",
     "text": [
      "Initial error value:  0.6199999999999999 Initial w= [[10.1]] Initial b= [1.3]\n",
      "step =  0 error value =  0.6199999999999999 w = [[10.1]] , b = [1.3]\n",
      "step =  400 error value =  0.6199999999999999 w = [[10.1]] , b = [1.3]\n",
      "step =  800 error value =  0.6199999999999999 w = [[10.1]] , b = [1.3]\n",
      "step =  1200 error value =  0.6199999999999999 w = [[10.1]] , b = [1.3]\n",
      "step =  1600 error value =  0.6199999999999999 w = [[10.1]] , b = [1.3]\n",
      "step =  2000 error value =  0.6199999999999999 w = [[10.1]] , b = [1.3]\n",
      "step =  2400 error value =  0.6199999999999999 w = [[10.1]] , b = [1.3]\n",
      "step =  2800 error value =  0.6199999999999999 w = [[10.1]] , b = [1.3]\n",
      "step =  3200 error value =  0.6199999999999999 w = [[10.1]] , b = [1.3]\n",
      "step =  3600 error value =  0.6199999999999999 w = [[10.1]] , b = [1.3]\n",
      "step =  4000 error value =  0.6199999999999999 w = [[10.1]] , b = [1.3]\n",
      "step =  4400 error value =  0.6199999999999999 w = [[10.1]] , b = [1.3]\n",
      "step =  4800 error value =  0.6199999999999999 w = [[10.1]] , b = [1.3]\n",
      "step =  5200 error value =  0.6199999999999999 w = [[10.1]] , b = [1.3]\n",
      "step =  5600 error value =  0.6199999999999999 w = [[10.1]] , b = [1.3]\n",
      "step =  6000 error value =  0.6199999999999999 w = [[10.1]] , b = [1.3]\n",
      "step =  6400 error value =  0.6199999999999999 w = [[10.1]] , b = [1.3]\n",
      "step =  6800 error value =  0.6199999999999999 w = [[10.1]] , b = [1.3]\n",
      "step =  7200 error value =  0.6199999999999999 w = [[10.1]] , b = [1.3]\n",
      "step =  7600 error value =  0.6199999999999999 w = [[10.1]] , b = [1.3]\n",
      "step =  8000 error value =  0.6199999999999999 w = [[10.1]] , b = [1.3]\n",
      "step =  8400 error value =  0.6199999999999999 w = [[10.1]] , b = [1.3]\n",
      "step =  8800 error value =  0.6199999999999999 w = [[10.1]] , b = [1.3]\n",
      "step =  9200 error value =  0.6199999999999999 w = [[10.1]] , b = [1.3]\n",
      "step =  9600 error value =  0.6199999999999999 w = [[10.1]] , b = [1.3]\n",
      "step =  10000 error value =  0.6199999999999999 w = [[10.1]] , b = [1.3]\n",
      "step =  10400 error value =  0.6199999999999999 w = [[10.1]] , b = [1.3]\n",
      "step =  10800 error value =  0.6199999999999999 w = [[10.1]] , b = [1.3]\n",
      "step =  11200 error value =  0.6199999999999999 w = [[10.1]] , b = [1.3]\n",
      "step =  11600 error value =  0.6199999999999999 w = [[10.1]] , b = [1.3]\n",
      "step =  12000 error value =  0.6199999999999999 w = [[10.1]] , b = [1.3]\n",
      "step =  12400 error value =  0.6199999999999999 w = [[10.1]] , b = [1.3]\n",
      "step =  12800 error value =  0.6199999999999999 w = [[10.1]] , b = [1.3]\n",
      "step =  13200 error value =  0.6199999999999999 w = [[10.1]] , b = [1.3]\n",
      "step =  13600 error value =  0.6199999999999999 w = [[10.1]] , b = [1.3]\n",
      "step =  14000 error value =  0.6199999999999999 w = [[10.1]] , b = [1.3]\n",
      "step =  14400 error value =  0.6199999999999999 w = [[10.1]] , b = [1.3]\n",
      "step =  14800 error value =  0.6199999999999999 w = [[10.1]] , b = [1.3]\n",
      "step =  15200 error value =  0.6199999999999999 w = [[10.1]] , b = [1.3]\n",
      "step =  15600 error value =  0.6199999999999999 w = [[10.1]] , b = [1.3]\n",
      "step =  16000 error value =  0.6199999999999999 w = [[10.1]] , b = [1.3]\n",
      "step =  16400 error value =  0.6199999999999999 w = [[10.1]] , b = [1.3]\n",
      "step =  16800 error value =  0.6199999999999999 w = [[10.1]] , b = [1.3]\n",
      "step =  17200 error value =  0.6199999999999999 w = [[10.1]] , b = [1.3]\n",
      "step =  17600 error value =  0.6199999999999999 w = [[10.1]] , b = [1.3]\n",
      "step =  18000 error value =  0.6199999999999999 w = [[10.1]] , b = [1.3]\n",
      "step =  18400 error value =  0.6199999999999999 w = [[10.1]] , b = [1.3]\n",
      "step =  18800 error value =  0.6199999999999999 w = [[10.1]] , b = [1.3]\n",
      "step =  19200 error value =  0.6199999999999999 w = [[10.1]] , b = [1.3]\n",
      "step =  19600 error value =  0.6199999999999999 w = [[10.1]] , b = [1.3]\n",
      "step =  20000 error value =  0.6199999999999999 w = [[10.1]] , b = [1.3]\n"
     ]
    }
   ],
   "source": [
    "learning_rate=1e-2\n",
    "\n",
    "f= lambda x : loss_func(x_data, t_data)\n",
    "print(\"Initial error value: \", loss_func(x_data, t_data), \"Initial w=\", w, \"Initial b=\", b)\n",
    "for step in range(20001):\n",
    "    w-= learning_rate*numerical_derivative(f,w)\n",
    "    b-= learning_rate*numerical_derivative(f,b)\n",
    "    if(step % 400 == 0):\n",
    "        print(\"step = \",step, \"error value = \", loss_func(x_data,t_data), \"w =\",w, \", b =\",b)"
   ]
  },
  {
   "cell_type": "code",
   "execution_count": 32,
   "id": "0cb8503e-6c2d-4769-8275-437e6cdb006d",
   "metadata": {},
   "outputs": [
    {
     "data": {
      "text/plain": [
       "array([[102.3]])"
      ]
     },
     "execution_count": 32,
     "metadata": {},
     "output_type": "execute_result"
    }
   ],
   "source": [
    "predict(10)"
   ]
  }
 ],
 "metadata": {
  "kernelspec": {
   "display_name": "Python 3",
   "language": "python",
   "name": "python3"
  },
  "language_info": {
   "codemirror_mode": {
    "name": "ipython",
    "version": 3
   },
   "file_extension": ".py",
   "mimetype": "text/x-python",
   "name": "python",
   "nbconvert_exporter": "python",
   "pygments_lexer": "ipython3",
   "version": "3.8.8"
  }
 },
 "nbformat": 4,
 "nbformat_minor": 5
}
